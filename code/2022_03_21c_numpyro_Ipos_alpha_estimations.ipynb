{
 "cells": [
  {
   "cell_type": "code",
   "execution_count": 1,
   "metadata": {},
   "outputs": [
    {
     "name": "stdout",
     "output_type": "stream",
     "text": [
      "Tue Mar 22 15:54:13 PDT 2022\r\n"
     ]
    }
   ],
   "source": [
    "import numpy as np, matplotlib.pyplot as plt, pandas as pd\n",
    "pd.set_option('display.max_rows', 8)\n",
    "!date"
   ]
  },
  {
   "cell_type": "code",
   "execution_count": 5,
   "metadata": {},
   "outputs": [],
   "source": [
    "# numpyro imports\n",
    "\n",
    "from jax import random\n",
    "import jax.numpy as jnp\n",
    "import numpyro\n",
    "import numpyro.distributions as dist\n",
    "from numpyro.infer import MCMC, NUTS"
   ]
  },
  {
   "cell_type": "markdown",
   "metadata": {},
   "source": [
    "# Simulate Ipos data and fit it with numpyro\n",
    "\n",
    "$\\text{Ipos}(p) \\propto \\frac{\\left(p(1-p)\\right)^\\alpha}{p}$ where $\\text{Ipos}(p)$ is the probability that a PLWHIV is in a stable, serodiscordant couple, and $p$ is the HIV seroprevalence (both measured in DHS or a similar survey).\n",
    "\n",
    "I will simulate data according to this relationship with a known $\\alpha$ and 25 DHS surveys of around 1,000 people each, and then estimate $\\alpha$ from a nonlinear model using `numpyro`.  Mexin can adapt this to her real dataset."
   ]
  },
  {
   "cell_type": "code",
   "execution_count": 2,
   "metadata": {},
   "outputs": [
    {
     "data": {
      "text/html": [
       "<div>\n",
       "<style scoped>\n",
       "    .dataframe tbody tr th:only-of-type {\n",
       "        vertical-align: middle;\n",
       "    }\n",
       "\n",
       "    .dataframe tbody tr th {\n",
       "        vertical-align: top;\n",
       "    }\n",
       "\n",
       "    .dataframe thead th {\n",
       "        text-align: right;\n",
       "    }\n",
       "</style>\n",
       "<table border=\"1\" class=\"dataframe\">\n",
       "  <thead>\n",
       "    <tr style=\"text-align: right;\">\n",
       "      <th></th>\n",
       "      <th>n_total</th>\n",
       "      <th>p_hiv_true</th>\n",
       "      <th>n_hiv</th>\n",
       "      <th>p_hiv_obs</th>\n",
       "      <th>ipos_true</th>\n",
       "      <th>n_ipos</th>\n",
       "      <th>ipos_obs</th>\n",
       "    </tr>\n",
       "  </thead>\n",
       "  <tbody>\n",
       "    <tr>\n",
       "      <th>0</th>\n",
       "      <td>959</td>\n",
       "      <td>0.295969</td>\n",
       "      <td>284</td>\n",
       "      <td>0.296142</td>\n",
       "      <td>0.242199</td>\n",
       "      <td>78</td>\n",
       "      <td>0.274648</td>\n",
       "    </tr>\n",
       "    <tr>\n",
       "      <th>1</th>\n",
       "      <td>1096</td>\n",
       "      <td>0.002536</td>\n",
       "      <td>3</td>\n",
       "      <td>0.002737</td>\n",
       "      <td>0.829169</td>\n",
       "      <td>3</td>\n",
       "      <td>1.000000</td>\n",
       "    </tr>\n",
       "    <tr>\n",
       "      <th>2</th>\n",
       "      <td>896</td>\n",
       "      <td>0.213080</td>\n",
       "      <td>185</td>\n",
       "      <td>0.206473</td>\n",
       "      <td>0.282738</td>\n",
       "      <td>54</td>\n",
       "      <td>0.291892</td>\n",
       "    </tr>\n",
       "    <tr>\n",
       "      <th>3</th>\n",
       "      <td>889</td>\n",
       "      <td>0.109075</td>\n",
       "      <td>126</td>\n",
       "      <td>0.141732</td>\n",
       "      <td>0.357006</td>\n",
       "      <td>18</td>\n",
       "      <td>0.142857</td>\n",
       "    </tr>\n",
       "    <tr>\n",
       "      <th>...</th>\n",
       "      <td>...</td>\n",
       "      <td>...</td>\n",
       "      <td>...</td>\n",
       "      <td>...</td>\n",
       "      <td>...</td>\n",
       "      <td>...</td>\n",
       "      <td>...</td>\n",
       "    </tr>\n",
       "    <tr>\n",
       "      <th>16</th>\n",
       "      <td>600</td>\n",
       "      <td>0.094901</td>\n",
       "      <td>52</td>\n",
       "      <td>0.086667</td>\n",
       "      <td>0.371750</td>\n",
       "      <td>31</td>\n",
       "      <td>0.596154</td>\n",
       "    </tr>\n",
       "    <tr>\n",
       "      <th>17</th>\n",
       "      <td>926</td>\n",
       "      <td>0.094501</td>\n",
       "      <td>107</td>\n",
       "      <td>0.115551</td>\n",
       "      <td>0.372195</td>\n",
       "      <td>30</td>\n",
       "      <td>0.280374</td>\n",
       "    </tr>\n",
       "    <tr>\n",
       "      <th>18</th>\n",
       "      <td>1334</td>\n",
       "      <td>0.384333</td>\n",
       "      <td>523</td>\n",
       "      <td>0.392054</td>\n",
       "      <td>0.206482</td>\n",
       "      <td>94</td>\n",
       "      <td>0.179732</td>\n",
       "    </tr>\n",
       "    <tr>\n",
       "      <th>19</th>\n",
       "      <td>912</td>\n",
       "      <td>0.046761</td>\n",
       "      <td>36</td>\n",
       "      <td>0.039474</td>\n",
       "      <td>0.446408</td>\n",
       "      <td>12</td>\n",
       "      <td>0.333333</td>\n",
       "    </tr>\n",
       "  </tbody>\n",
       "</table>\n",
       "<p>20 rows × 7 columns</p>\n",
       "</div>"
      ],
      "text/plain": [
       "    n_total  p_hiv_true  n_hiv  p_hiv_obs  ipos_true  n_ipos  ipos_obs\n",
       "0       959    0.295969    284   0.296142   0.242199      78  0.274648\n",
       "1      1096    0.002536      3   0.002737   0.829169       3  1.000000\n",
       "2       896    0.213080    185   0.206473   0.282738      54  0.291892\n",
       "3       889    0.109075    126   0.141732   0.357006      18  0.142857\n",
       "..      ...         ...    ...        ...        ...     ...       ...\n",
       "16      600    0.094901     52   0.086667   0.371750      31  0.596154\n",
       "17      926    0.094501    107   0.115551   0.372195      30  0.280374\n",
       "18     1334    0.384333    523   0.392054   0.206482      94  0.179732\n",
       "19      912    0.046761     36   0.039474   0.446408      12  0.333333\n",
       "\n",
       "[20 rows x 7 columns]"
      ]
     },
     "execution_count": 2,
     "metadata": {},
     "output_type": "execute_result"
    }
   ],
   "source": [
    "n_samples = 20\n",
    "alpha_true = 0.80\n",
    "ipos_concentration_true = 25\n",
    "\n",
    "epsilon = 1/1_000  # technically this is part of the model, not the simulated data\n",
    "\n",
    "np.random.seed(12345) # set random seed for reproducibility\n",
    "\n",
    "# simulate data for testing model\n",
    "df = pd.DataFrame()\n",
    "\n",
    "df['n_total'] = np.round(np.random.normal(1_000, 200, n_samples)).astype(int)\n",
    "\n",
    "df['p_hiv_true'] = np.random.beta(1, 9, n_samples)\n",
    "df['n_hiv'] = np.random.binomial(df.n_total, df.p_hiv_true)\n",
    "df['p_hiv_obs'] = df.n_hiv / df.n_total\n",
    "\n",
    "p = df['p_hiv_true']\n",
    "df['ipos_true'] = (p * (1-p))**alpha_true / p\n",
    "Z = (epsilon * (1 - epsilon))**alpha_true / (epsilon)\n",
    "df['ipos_true'] /= Z # normalize so that Ipos(epsilon) = 1 --- choice of epsilon is a bit arbitrary\n",
    "\n",
    "df['n_ipos'] = np.random.binomial(df.n_hiv, np.random.beta(ipos_concentration_true*df.ipos_true,\n",
    "                                                           ipos_concentration_true*(1-df.ipos_true)))\n",
    "df['ipos_obs'] = df.n_ipos / df.n_hiv\n",
    "\n",
    "df"
   ]
  },
  {
   "cell_type": "code",
   "execution_count": 3,
   "metadata": {},
   "outputs": [
    {
     "data": {
      "image/png": "[encoded data removed]",
      "text/plain": [
       "<Figure size 432x288 with 1 Axes>"
      ]
     },
     "metadata": {
      "needs_background": "light"
     },
     "output_type": "display_data"
    }
   ],
   "source": [
    "plt.plot(df.p_hiv_obs.values, df.ipos_obs, 'o', mec='k', mew=1, color='none', zorder=10)\n",
    "plt.xlabel('Seroprevalence')\n",
    "plt.ylabel('Ipos')\n",
    "plt.axis(ymin=0, ymax=1)\n",
    "plt.grid()\n",
    "def my_plot_curves():\n",
    "    p = np.linspace(.01,.6,num=500)\n",
    "\n",
    "    for alpha in np.linspace(.5,.9,num=5):\n",
    "        X = (p * (1 - p))**alpha/p\n",
    "        X /= (epsilon * (1 - epsilon))**alpha_true / epsilon\n",
    "\n",
    "        \n",
    "        plt.plot(p, X, label=f'{alpha:.2f}')\n",
    "    plt.legend(title='$\\\\alpha=$', loc=(1.01, .01))\n",
    "my_plot_curves()"
   ]
  },
  {
   "cell_type": "code",
   "execution_count": 4,
   "metadata": {},
   "outputs": [
    {
     "data": {
      "text/html": [
       "<div>\n",
       "<style scoped>\n",
       "    .dataframe tbody tr th:only-of-type {\n",
       "        vertical-align: middle;\n",
       "    }\n",
       "\n",
       "    .dataframe tbody tr th {\n",
       "        vertical-align: top;\n",
       "    }\n",
       "\n",
       "    .dataframe thead th {\n",
       "        text-align: right;\n",
       "    }\n",
       "</style>\n",
       "<table border=\"1\" class=\"dataframe\">\n",
       "  <thead>\n",
       "    <tr style=\"text-align: right;\">\n",
       "      <th></th>\n",
       "      <th>n_total</th>\n",
       "      <th>n_hiv</th>\n",
       "      <th>n_ipos</th>\n",
       "    </tr>\n",
       "  </thead>\n",
       "  <tbody>\n",
       "    <tr>\n",
       "      <th>0</th>\n",
       "      <td>959</td>\n",
       "      <td>284</td>\n",
       "      <td>78</td>\n",
       "    </tr>\n",
       "    <tr>\n",
       "      <th>1</th>\n",
       "      <td>1096</td>\n",
       "      <td>3</td>\n",
       "      <td>3</td>\n",
       "    </tr>\n",
       "    <tr>\n",
       "      <th>2</th>\n",
       "      <td>896</td>\n",
       "      <td>185</td>\n",
       "      <td>54</td>\n",
       "    </tr>\n",
       "    <tr>\n",
       "      <th>3</th>\n",
       "      <td>889</td>\n",
       "      <td>126</td>\n",
       "      <td>18</td>\n",
       "    </tr>\n",
       "    <tr>\n",
       "      <th>...</th>\n",
       "      <td>...</td>\n",
       "      <td>...</td>\n",
       "      <td>...</td>\n",
       "    </tr>\n",
       "    <tr>\n",
       "      <th>16</th>\n",
       "      <td>600</td>\n",
       "      <td>52</td>\n",
       "      <td>31</td>\n",
       "    </tr>\n",
       "    <tr>\n",
       "      <th>17</th>\n",
       "      <td>926</td>\n",
       "      <td>107</td>\n",
       "      <td>30</td>\n",
       "    </tr>\n",
       "    <tr>\n",
       "      <th>18</th>\n",
       "      <td>1334</td>\n",
       "      <td>523</td>\n",
       "      <td>94</td>\n",
       "    </tr>\n",
       "    <tr>\n",
       "      <th>19</th>\n",
       "      <td>912</td>\n",
       "      <td>36</td>\n",
       "      <td>12</td>\n",
       "    </tr>\n",
       "  </tbody>\n",
       "</table>\n",
       "<p>20 rows × 3 columns</p>\n",
       "</div>"
      ],
      "text/plain": [
       "    n_total  n_hiv  n_ipos\n",
       "0       959    284      78\n",
       "1      1096      3       3\n",
       "2       896    185      54\n",
       "3       889    126      18\n",
       "..      ...    ...     ...\n",
       "16      600     52      31\n",
       "17      926    107      30\n",
       "18     1334    523      94\n",
       "19      912     36      12\n",
       "\n",
       "[20 rows x 3 columns]"
      ]
     },
     "execution_count": 4,
     "metadata": {},
     "output_type": "execute_result"
    }
   ],
   "source": [
    "# columns that Mexin will have from DHS\n",
    "df.filter(['n_total', 'n_hiv', 'n_ipos'])  # I think"
   ]
  },
  {
   "cell_type": "code",
   "execution_count": 6,
   "metadata": {
    "scrolled": false
   },
   "outputs": [
    {
     "name": "stderr",
     "output_type": "stream",
     "text": [
      "sample: 100%|██████████| 2000/2000 [00:05<00:00, 360.20it/s, 7 steps of size 6.40e-01. acc. prob=0.85]\n"
     ]
    }
   ],
   "source": [
    "# simplest model\n",
    "def model(n_total, n_hiv, n_ipos):\n",
    "    n_samples = len(n_total)\n",
    "    \n",
    "    p_hiv = numpyro.sample('p_hiv', dist.Beta(jnp.ones(n_samples), jnp.ones(n_samples)))\n",
    "    n_hiv_obs = numpyro.sample('n_hiv_obs', dist.Binomial(n_total, p_hiv), obs=n_hiv)\n",
    "\n",
    "    alpha = numpyro.sample('alpha', dist.TruncatedNormal(loc=1, scale=1, low=0, high=2))\n",
    "    Z = (epsilon * (1 - epsilon))**alpha / epsilon\n",
    "    p_ipos = ( (p_hiv * (1-p_hiv))**alpha / p_hiv) / Z\n",
    "    \n",
    "    n_ipos_obs = numpyro.sample('n_ipos_obs', dist.Binomial(n_hiv, p_ipos), obs=n_ipos)\n",
    "\n",
    "\n",
    "\n",
    "kernel = NUTS(model)\n",
    "mcmc = MCMC(kernel, num_warmup=1000, num_samples=1000)\n",
    "mcmc.run(random.PRNGKey(0), df.n_total.values, df.n_hiv.values, df.n_ipos.values)\n",
    "samples = mcmc.get_samples()"
   ]
  },
  {
   "cell_type": "code",
   "execution_count": 7,
   "metadata": {},
   "outputs": [
    {
     "name": "stdout",
     "output_type": "stream",
     "text": [
      "alpha_true 0.8\n",
      "alpha est (with uncertainty): 0.777 [0.764 0.789]\n"
     ]
    }
   ],
   "source": [
    "print('alpha_true', alpha_true)\n",
    "print('alpha est (with uncertainty):', f'{samples[\"alpha\"].mean():.3f}', \n",
    "         np.round(np.percentile(samples['alpha'], [2.5, 97.5]), 3))"
   ]
  },
  {
   "cell_type": "code",
   "execution_count": 8,
   "metadata": {},
   "outputs": [
    {
     "name": "stderr",
     "output_type": "stream",
     "text": [
      "sample: 100%|██████████| 2000/2000 [00:08<00:00, 232.29it/s, 7 steps of size 5.12e-01. acc. prob=0.89]\n"
     ]
    }
   ],
   "source": [
    "# probably better to model n_ipos as a beta binomial\n",
    "def model(n_total, n_hiv, n_ipos):\n",
    "    n_samples = len(n_total)\n",
    "    \n",
    "    p_hiv = numpyro.sample('p_hiv', dist.Beta(jnp.ones(n_samples), jnp.ones(n_samples)))\n",
    "    n_hiv_obs = numpyro.sample('n_hiv_obs', dist.Binomial(n_total, p_hiv), obs=n_hiv)\n",
    "\n",
    "    alpha = numpyro.sample('alpha', dist.TruncatedNormal(loc=1, scale=1, low=.1, high=1.1))\n",
    "    lambda_ipos = numpyro.sample('lambda_ipos', dist.Uniform(low=10, high=10_000))\n",
    "    Z = (epsilon * (1 - epsilon))**alpha / epsilon\n",
    "    p_ipos = ((p_hiv * (1-p_hiv))**alpha / p_hiv) / Z\n",
    "    \n",
    "    n_ipos_obs = numpyro.sample('n_ipos_obs', dist.BetaBinomial(lambda_ipos*p_ipos,\n",
    "                                                               lambda_ipos*(1-p_ipos), n_hiv), obs=n_ipos)\n",
    "\n",
    "\n",
    "\n",
    "kernel = NUTS(model)\n",
    "mcmc = MCMC(kernel, num_warmup=1000, num_samples=1000)\n",
    "mcmc.run(random.PRNGKey(0), df.n_total.values, df.n_hiv.values, df.n_ipos.values)\n",
    "samples = mcmc.get_samples()"
   ]
  },
  {
   "cell_type": "code",
   "execution_count": 9,
   "metadata": {},
   "outputs": [
    {
     "name": "stdout",
     "output_type": "stream",
     "text": [
      "alpha_true 0.8\n",
      "alpha est (with uncertainty): 0.786 [0.752 0.819]\n"
     ]
    }
   ],
   "source": [
    "print('alpha_true', alpha_true)\n",
    "print('alpha est (with uncertainty):', f'{samples[\"alpha\"].mean():.3f}', \n",
    "         np.round(np.percentile(samples['alpha'], [2.5, 97.5]), 3))"
   ]
  },
  {
   "cell_type": "markdown",
   "metadata": {},
   "source": [
    "# Some MCMC diagnostics\n",
    "\n",
    "(To make sure we did a good job fitting the model)"
   ]
  },
  {
   "cell_type": "code",
   "execution_count": 10,
   "metadata": {},
   "outputs": [
    {
     "data": {
      "image/png": "[encoded data removed]",
      "text/plain": [
       "<Figure size 432x288 with 1 Axes>"
      ]
     },
     "metadata": {
      "needs_background": "light"
     },
     "output_type": "display_data"
    }
   ],
   "source": [
    "plt.acorr(samples['alpha']-samples['alpha'].mean());"
   ]
  },
  {
   "cell_type": "code",
   "execution_count": 11,
   "metadata": {},
   "outputs": [
    {
     "data": {
      "text/plain": [
       "[<matplotlib.lines.Line2D at 0x7efdcc7efdc0>]"
      ]
     },
     "execution_count": 11,
     "metadata": {},
     "output_type": "execute_result"
    },
    {
     "data": {
      "image/png": "[encoded data removed]",
      "text/plain": [
       "<Figure size 432x288 with 1 Axes>"
      ]
     },
     "metadata": {
      "needs_background": "light"
     },
     "output_type": "display_data"
    }
   ],
   "source": [
    "plt.plot(samples['lambda_ipos'])"
   ]
  },
  {
   "cell_type": "code",
   "execution_count": 12,
   "metadata": {},
   "outputs": [
    {
     "data": {
      "image/png": "[encoded data removed]",
      "text/plain": [
       "<Figure size 432x288 with 1 Axes>"
      ]
     },
     "metadata": {
      "needs_background": "light"
     },
     "output_type": "display_data"
    }
   ],
   "source": [
    "plt.acorr(samples['alpha']-samples['alpha'].mean());"
   ]
  },
  {
   "cell_type": "code",
   "execution_count": 13,
   "metadata": {},
   "outputs": [
    {
     "data": {
      "text/plain": [
       "[<matplotlib.lines.Line2D at 0x7efdcc6e3520>]"
      ]
     },
     "execution_count": 13,
     "metadata": {},
     "output_type": "execute_result"
    },
    {
     "data": {
      "image/png": "[encoded data removed]",
      "text/plain": [
       "<Figure size 432x288 with 1 Axes>"
      ]
     },
     "metadata": {
      "needs_background": "light"
     },
     "output_type": "display_data"
    }
   ],
   "source": [
    "plt.plot(samples['alpha'])"
   ]
  },
  {
   "cell_type": "code",
   "execution_count": 14,
   "metadata": {},
   "outputs": [
    {
     "name": "stdout",
     "output_type": "stream",
     "text": [
      "\n",
      "                   mean       std    median      5.0%     95.0%     n_eff     r_hat\n",
      "        alpha      0.79      0.02      0.79      0.76      0.81   1290.44      1.00\n",
      "  lambda_ipos     25.29     10.95     22.88     10.29     40.93   1154.87      1.00\n",
      "     p_hiv[0]      0.30      0.01      0.30      0.27      0.32   1665.13      1.00\n",
      "     p_hiv[1]      0.00      0.00      0.00      0.00      0.01   1620.32      1.00\n",
      "     p_hiv[2]      0.21      0.01      0.21      0.19      0.23   1925.29      1.00\n",
      "     p_hiv[3]      0.14      0.01      0.14      0.13      0.16   1244.98      1.00\n",
      "     p_hiv[4]      0.18      0.01      0.18      0.17      0.20   1700.21      1.00\n",
      "     p_hiv[5]      0.14      0.01      0.14      0.12      0.15   1907.42      1.00\n",
      "     p_hiv[6]      0.03      0.01      0.03      0.02      0.04   1778.37      1.00\n",
      "     p_hiv[7]      0.21      0.01      0.21      0.19      0.23   1678.88      1.00\n",
      "     p_hiv[8]      0.08      0.01      0.08      0.07      0.09   1471.32      1.00\n",
      "     p_hiv[9]      0.12      0.01      0.12      0.11      0.14   1938.26      1.00\n",
      "    p_hiv[10]      0.05      0.01      0.05      0.04      0.06   2257.24      1.00\n",
      "    p_hiv[11]      0.05      0.01      0.05      0.04      0.06   2558.54      1.00\n",
      "    p_hiv[12]      0.11      0.01      0.11      0.10      0.13   1881.03      1.00\n",
      "    p_hiv[13]      0.17      0.01      0.17      0.15      0.19   1137.80      1.00\n",
      "    p_hiv[14]      0.24      0.01      0.24      0.22      0.25   1620.04      1.00\n",
      "    p_hiv[15]      0.04      0.01      0.04      0.03      0.05   1887.41      1.00\n",
      "    p_hiv[16]      0.09      0.01      0.08      0.07      0.10   1473.01      1.00\n",
      "    p_hiv[17]      0.12      0.01      0.12      0.10      0.13   1598.63      1.00\n",
      "    p_hiv[18]      0.39      0.01      0.39      0.37      0.42   1747.20      1.00\n",
      "    p_hiv[19]      0.04      0.01      0.04      0.03      0.05   2096.64      1.00\n",
      "\n",
      "Number of divergences: 0\n"
     ]
    }
   ],
   "source": [
    "mcmc.print_summary()"
   ]
  },
  {
   "cell_type": "code",
   "execution_count": null,
   "metadata": {},
   "outputs": [],
   "source": []
  }
 ],
 "metadata": {
  "kernelspec": {
   "display_name": "pymc_latest",
   "language": "python",
   "name": "pymc_latest"
  },
  "language_info": {
   "codemirror_mode": {
    "name": "ipython",
    "version": 3
   },
   "file_extension": ".py",
   "mimetype": "text/x-python",
   "name": "python",
   "nbconvert_exporter": "python",
   "pygments_lexer": "ipython3",
   "version": "3.8.12"
  }
 },
 "nbformat": 4,
 "nbformat_minor": 2
}
